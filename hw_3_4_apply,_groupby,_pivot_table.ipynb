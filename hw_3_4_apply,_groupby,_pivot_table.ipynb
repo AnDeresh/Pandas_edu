{
 "cells": [
  {
   "cell_type": "markdown",
   "metadata": {
    "id": "LwNpAFw_eTF3"
   },
   "source": [
    "#Домашнє завдання до тем apply(), groupby(), pivot_table()"
   ]
  },
  {
   "cell_type": "markdown",
   "metadata": {
    "id": "vP2PEJyq8Yrj"
   },
   "source": [
    "В цьому домашньому завданні продовжуємо працювати з набором даних `supermarket_sales.csv`."
   ]
  },
  {
   "cell_type": "markdown",
   "metadata": {
    "id": "dh9lfpDb8gBL"
   },
   "source": [
    "0. Імпортуйте бібліотеку pandas та зчитайте дані у змінну `df` типу `pandas.DataFrame`."
   ]
  },
  {
   "cell_type": "code",
   "execution_count": 78,
   "metadata": {
    "id": "xBI9gJMK8qnl"
   },
   "outputs": [],
   "source": [
    "import pandas as pd\n",
    "df = pd.read_csv('../data/supermarket_sales.csv')"
   ]
  },
  {
   "cell_type": "markdown",
   "metadata": {
    "id": "28638363"
   },
   "source": [
    "1. Дослідимо, який філіал супермаркету ('Branch') є найприбутковішим. Для цього знайдіть сумарний прибуток за кожним філіалом і виявіть, який філіал має найвищий."
   ]
  },
  {
   "cell_type": "code",
   "execution_count": 80,
   "metadata": {
    "ExecuteTime": {
     "end_time": "2022-11-01T17:27:42.023877Z",
     "start_time": "2022-11-01T17:27:42.020277Z"
    },
    "id": "916d731d"
   },
   "outputs": [
    {
     "data": {
      "text/plain": [
       "Branch\n",
       "A    5057.1605\n",
       "B    5057.0320\n",
       "C    5265.1765\n",
       "Name: gross income, dtype: float64"
      ]
     },
     "execution_count": 80,
     "metadata": {},
     "output_type": "execute_result"
    }
   ],
   "source": [
    "df.groupby(by = \"Branch\")['gross income'].sum()"
   ]
  },
  {
   "cell_type": "markdown",
   "metadata": {
    "id": "2qL_OddUCZKK"
   },
   "source": [
    "2. В якому місті знайходиться філіал з найвищим прибутком? Може в тому місці нам розмітисти ще один магазин.  \n",
    "Знайдіть відповідь за допомогою функціоналу Pandas."
   ]
  },
  {
   "cell_type": "code",
   "execution_count": 87,
   "metadata": {
    "id": "bBJUc1dWCwdi"
   },
   "outputs": [
    {
     "data": {
      "text/plain": [
       "Branch\n",
       "A       [Yangon]\n",
       "B     [Mandalay]\n",
       "C    [Naypyitaw]\n",
       "Name: City, dtype: object"
      ]
     },
     "execution_count": 87,
     "metadata": {},
     "output_type": "execute_result"
    }
   ],
   "source": [
    "df.groupby(by = \"Branch\")['City'].unique()"
   ]
  },
  {
   "cell_type": "markdown",
   "metadata": {
    "id": "6dec795f"
   },
   "source": [
    "3.1. Створіть зводну таблицю, яка покаже, скільки покупок (інвойсів) було зроблено в кожній з філій (`Branch`) за різними категоріями товарів. Запишіть таблицю в змінну `invoices_by_category` і виведіть змінну на екран.\n",
    "Ця таблиця допоможе проаналізувати, в якій філії купують найбільше товарів кожної з категорій."
   ]
  },
  {
   "cell_type": "code",
   "execution_count": 106,
   "metadata": {
    "id": "N7TfUBf4ZrkX"
   },
   "outputs": [
    {
     "data": {
      "text/html": [
       "<div>\n",
       "<style scoped>\n",
       "    .dataframe tbody tr th:only-of-type {\n",
       "        vertical-align: middle;\n",
       "    }\n",
       "\n",
       "    .dataframe tbody tr th {\n",
       "        vertical-align: top;\n",
       "    }\n",
       "\n",
       "    .dataframe thead th {\n",
       "        text-align: right;\n",
       "    }\n",
       "</style>\n",
       "<table border=\"1\" class=\"dataframe\">\n",
       "  <thead>\n",
       "    <tr style=\"text-align: right;\">\n",
       "      <th>Product line</th>\n",
       "      <th>Electronic accessories</th>\n",
       "      <th>Fashion accessories</th>\n",
       "      <th>Food and beverages</th>\n",
       "      <th>Health and beauty</th>\n",
       "      <th>Home and lifestyle</th>\n",
       "      <th>Sports and travel</th>\n",
       "    </tr>\n",
       "    <tr>\n",
       "      <th>Branch</th>\n",
       "      <th></th>\n",
       "      <th></th>\n",
       "      <th></th>\n",
       "      <th></th>\n",
       "      <th></th>\n",
       "      <th></th>\n",
       "    </tr>\n",
       "  </thead>\n",
       "  <tbody>\n",
       "    <tr>\n",
       "      <th>A</th>\n",
       "      <td>60</td>\n",
       "      <td>51</td>\n",
       "      <td>58</td>\n",
       "      <td>47</td>\n",
       "      <td>65</td>\n",
       "      <td>59</td>\n",
       "    </tr>\n",
       "    <tr>\n",
       "      <th>B</th>\n",
       "      <td>55</td>\n",
       "      <td>62</td>\n",
       "      <td>50</td>\n",
       "      <td>53</td>\n",
       "      <td>50</td>\n",
       "      <td>62</td>\n",
       "    </tr>\n",
       "    <tr>\n",
       "      <th>C</th>\n",
       "      <td>55</td>\n",
       "      <td>65</td>\n",
       "      <td>66</td>\n",
       "      <td>52</td>\n",
       "      <td>45</td>\n",
       "      <td>45</td>\n",
       "    </tr>\n",
       "  </tbody>\n",
       "</table>\n",
       "</div>"
      ],
      "text/plain": [
       "Product line  Electronic accessories  Fashion accessories  Food and beverages  \\\n",
       "Branch                                                                          \n",
       "A                                 60                   51                  58   \n",
       "B                                 55                   62                  50   \n",
       "C                                 55                   65                  66   \n",
       "\n",
       "Product line  Health and beauty  Home and lifestyle  Sports and travel  \n",
       "Branch                                                                  \n",
       "A                            47                  65                 59  \n",
       "B                            53                  50                 62  \n",
       "C                            52                  45                 45  "
      ]
     },
     "execution_count": 106,
     "metadata": {},
     "output_type": "execute_result"
    }
   ],
   "source": [
    "invoices_by_category = df.groupby(by = [\"Branch\", \"Product line\"]).size().unstack()\n",
    "invoices_by_category"
   ]
  },
  {
   "cell_type": "markdown",
   "metadata": {
    "ExecuteTime": {
     "end_time": "2022-11-01T16:50:46.961201Z",
     "start_time": "2022-11-01T16:50:46.955894Z"
    },
    "id": "f5bbfa34"
   },
   "source": [
    "Очікуваний результат:"
   ]
  },
  {
   "cell_type": "markdown",
   "metadata": {
    "id": "34b9bcdc"
   },
   "source": [
    "![](https://drive.google.com/uc?export=view&id=1rueAdko6S3UxIHGtojetTxlES-EyM6Yb)"
   ]
  },
  {
   "cell_type": "markdown",
   "metadata": {
    "id": "woygDEA0OSwJ"
   },
   "source": [
    "3.2. Викристовуючи змінну `invoices_by_category` дайте відповідь програмно (тобто значення треба не просто знайти очима, а вивести за допомогою коду), в якому філіалі магазину (`Branch`) найбільше інвойсів із покупкою товарів категорії \"Електронні аксесуари\" (`Electronic accessories`)?\n"
   ]
  },
  {
   "cell_type": "code",
   "execution_count": 111,
   "metadata": {
    "id": "B5x8kTE-Qcq8"
   },
   "outputs": [
    {
     "data": {
      "text/plain": [
       "idxmax     A\n",
       "max       60\n",
       "Name: Electronic accessories, dtype: object"
      ]
     },
     "execution_count": 111,
     "metadata": {},
     "output_type": "execute_result"
    }
   ],
   "source": [
    "invoices_by_category[\"Electronic accessories\"].agg([\"idxmax\", \"max\"])"
   ]
  },
  {
   "cell_type": "markdown",
   "metadata": {
    "ExecuteTime": {
     "end_time": "2022-11-01T17:56:02.981755Z",
     "start_time": "2022-11-01T17:56:02.977086Z"
    },
    "id": "d005a2b8"
   },
   "source": [
    "4-6. **Творче завдання на розвиток аналітичного мислення**\n",
    "\n",
    "Крок 1. Сформулюйте ТРИ питання (гіпотези) до наявних даних, які допомогли б вам зрозуміти, які користувачі що, де та коли найбільше/найменше купують, аби дати на основі цих гіпотез рекомендації бізнесу. Звісно питання мають бути не тими, на які ми вже відповіли в завданнях модулю.\n",
    "\n",
    "Крок 2. Знайдіть відповіді на свої питання з допомогою функціоналу pandas.\n",
    "\n",
    "Крок 3. Напишіть, як відповідь на це питання може бути використана для прийняття бізнес рішень.   \n",
    "   \n",
    " Питання можуть бути будь-якої складності, але їх має бути 3. Кожне питання оцінюється як 1 завдання. Без виконання цього завдання ДЗ не приймається. Якщо є питання щодо виконання - пишіть у чат 🙌\n"
   ]
  },
  {
   "cell_type": "markdown",
   "metadata": {},
   "source": [
    "1. **Перевірити чи впливає спосіб оплати на середній чек.**"
   ]
  },
  {
   "cell_type": "code",
   "execution_count": 65,
   "metadata": {},
   "outputs": [
    {
     "data": {
      "text/plain": [
       "Payment\n",
       "Cash           326.181890\n",
       "Credit card    324.009878\n",
       "Ewallet        318.820600\n",
       "Name: Total, dtype: float64"
      ]
     },
     "execution_count": 65,
     "metadata": {},
     "output_type": "execute_result"
    }
   ],
   "source": [
    "df.groupby(by=['Payment'])['Total'].mean()"
   ]
  },
  {
   "cell_type": "markdown",
   "metadata": {},
   "source": [
    "Висновок: з даних видно, що середній чек є орієнтовно однаковий по покупках незалежно від вибору методу оплати. Можна додатково ще проаналізувати чи метод оплати в різних містах по різному впливає на це."
   ]
  },
  {
   "cell_type": "code",
   "execution_count": 66,
   "metadata": {},
   "outputs": [
    {
     "data": {
      "text/plain": [
       "City       Payment    \n",
       "Mandalay   Cash           321.267832\n",
       "           Credit card    342.613362\n",
       "           Ewallet        296.578354\n",
       "Naypyitaw  Cash           347.466593\n",
       "           Credit card    309.463929\n",
       "           Ewallet        350.522491\n",
       "Yangon     Cash           307.102282\n",
       "           Credit card    318.218755\n",
       "           Ewallet        312.098167\n",
       "Name: Total, dtype: float64"
      ]
     },
     "execution_count": 66,
     "metadata": {},
     "output_type": "execute_result"
    }
   ],
   "source": [
    "df.groupby(by=['City', 'Payment'])['Total'].mean()"
   ]
  },
  {
   "cell_type": "markdown",
   "metadata": {},
   "source": [
    "Висновок: єдиний показник, що вирізняється це оплата за допомогою кридитної карти в місті Naypyitaw. В середньому такі чеки менші, ніж інші. Можливо варто ввести якісь заохочувальні програми для тих, хто користується цим методом оплати, або ж навпаки сконцентруватись на тих методах, що є більш прибутковими."
   ]
  },
  {
   "cell_type": "markdown",
   "metadata": {},
   "source": [
    "2. **Гіпотеза про вплив рейтингу задоволення клієнтів на обсяг продажів.**"
   ]
  },
  {
   "cell_type": "code",
   "execution_count": 67,
   "metadata": {},
   "outputs": [
    {
     "data": {
      "text/html": [
       "<div>\n",
       "<style scoped>\n",
       "    .dataframe tbody tr th:only-of-type {\n",
       "        vertical-align: middle;\n",
       "    }\n",
       "\n",
       "    .dataframe tbody tr th {\n",
       "        vertical-align: top;\n",
       "    }\n",
       "\n",
       "    .dataframe thead th {\n",
       "        text-align: right;\n",
       "    }\n",
       "</style>\n",
       "<table border=\"1\" class=\"dataframe\">\n",
       "  <thead>\n",
       "    <tr style=\"text-align: right;\">\n",
       "      <th></th>\n",
       "      <th>count</th>\n",
       "      <th>mean</th>\n",
       "      <th>std</th>\n",
       "      <th>min</th>\n",
       "      <th>25%</th>\n",
       "      <th>50%</th>\n",
       "      <th>75%</th>\n",
       "      <th>max</th>\n",
       "    </tr>\n",
       "    <tr>\n",
       "      <th>Rating</th>\n",
       "      <th></th>\n",
       "      <th></th>\n",
       "      <th></th>\n",
       "      <th></th>\n",
       "      <th></th>\n",
       "      <th></th>\n",
       "      <th></th>\n",
       "      <th></th>\n",
       "    </tr>\n",
       "  </thead>\n",
       "  <tbody>\n",
       "    <tr>\n",
       "      <th>4.0</th>\n",
       "      <td>11.0</td>\n",
       "      <td>362.410364</td>\n",
       "      <td>269.560613</td>\n",
       "      <td>48.7305</td>\n",
       "      <td>126.084000</td>\n",
       "      <td>231.24150</td>\n",
       "      <td>615.615000</td>\n",
       "      <td>688.7160</td>\n",
       "    </tr>\n",
       "    <tr>\n",
       "      <th>4.1</th>\n",
       "      <td>17.0</td>\n",
       "      <td>211.128441</td>\n",
       "      <td>218.140205</td>\n",
       "      <td>32.1510</td>\n",
       "      <td>78.435000</td>\n",
       "      <td>100.12800</td>\n",
       "      <td>223.587000</td>\n",
       "      <td>745.8360</td>\n",
       "    </tr>\n",
       "    <tr>\n",
       "      <th>4.2</th>\n",
       "      <td>22.0</td>\n",
       "      <td>421.632273</td>\n",
       "      <td>249.976360</td>\n",
       "      <td>55.8810</td>\n",
       "      <td>264.993750</td>\n",
       "      <td>335.19675</td>\n",
       "      <td>602.495250</td>\n",
       "      <td>944.6220</td>\n",
       "    </tr>\n",
       "    <tr>\n",
       "      <th>4.3</th>\n",
       "      <td>18.0</td>\n",
       "      <td>331.006083</td>\n",
       "      <td>293.297489</td>\n",
       "      <td>19.2465</td>\n",
       "      <td>71.197875</td>\n",
       "      <td>277.16850</td>\n",
       "      <td>544.238625</td>\n",
       "      <td>864.5700</td>\n",
       "    </tr>\n",
       "    <tr>\n",
       "      <th>4.4</th>\n",
       "      <td>17.0</td>\n",
       "      <td>395.092147</td>\n",
       "      <td>339.262282</td>\n",
       "      <td>51.0405</td>\n",
       "      <td>84.630000</td>\n",
       "      <td>300.57300</td>\n",
       "      <td>588.420000</td>\n",
       "      <td>1022.4900</td>\n",
       "    </tr>\n",
       "    <tr>\n",
       "      <th>...</th>\n",
       "      <td>...</td>\n",
       "      <td>...</td>\n",
       "      <td>...</td>\n",
       "      <td>...</td>\n",
       "      <td>...</td>\n",
       "      <td>...</td>\n",
       "      <td>...</td>\n",
       "      <td>...</td>\n",
       "    </tr>\n",
       "    <tr>\n",
       "      <th>9.6</th>\n",
       "      <td>17.0</td>\n",
       "      <td>328.956353</td>\n",
       "      <td>241.438148</td>\n",
       "      <td>41.0760</td>\n",
       "      <td>147.672000</td>\n",
       "      <td>295.69050</td>\n",
       "      <td>462.210000</td>\n",
       "      <td>939.5400</td>\n",
       "    </tr>\n",
       "    <tr>\n",
       "      <th>9.7</th>\n",
       "      <td>14.0</td>\n",
       "      <td>238.028250</td>\n",
       "      <td>189.600876</td>\n",
       "      <td>44.3520</td>\n",
       "      <td>92.788500</td>\n",
       "      <td>161.93100</td>\n",
       "      <td>364.848750</td>\n",
       "      <td>629.8425</td>\n",
       "    </tr>\n",
       "    <tr>\n",
       "      <th>9.8</th>\n",
       "      <td>19.0</td>\n",
       "      <td>261.943500</td>\n",
       "      <td>229.360880</td>\n",
       "      <td>14.6790</td>\n",
       "      <td>96.384750</td>\n",
       "      <td>217.18200</td>\n",
       "      <td>310.611000</td>\n",
       "      <td>887.9220</td>\n",
       "    </tr>\n",
       "    <tr>\n",
       "      <th>9.9</th>\n",
       "      <td>16.0</td>\n",
       "      <td>363.933281</td>\n",
       "      <td>222.419676</td>\n",
       "      <td>77.7735</td>\n",
       "      <td>190.118250</td>\n",
       "      <td>343.74900</td>\n",
       "      <td>526.677375</td>\n",
       "      <td>914.5500</td>\n",
       "    </tr>\n",
       "    <tr>\n",
       "      <th>10.0</th>\n",
       "      <td>5.0</td>\n",
       "      <td>416.070900</td>\n",
       "      <td>212.072227</td>\n",
       "      <td>77.9310</td>\n",
       "      <td>339.360000</td>\n",
       "      <td>520.41150</td>\n",
       "      <td>554.295000</td>\n",
       "      <td>588.3570</td>\n",
       "    </tr>\n",
       "  </tbody>\n",
       "</table>\n",
       "<p>61 rows × 8 columns</p>\n",
       "</div>"
      ],
      "text/plain": [
       "        count        mean         std      min         25%        50%  \\\n",
       "Rating                                                                  \n",
       "4.0      11.0  362.410364  269.560613  48.7305  126.084000  231.24150   \n",
       "4.1      17.0  211.128441  218.140205  32.1510   78.435000  100.12800   \n",
       "4.2      22.0  421.632273  249.976360  55.8810  264.993750  335.19675   \n",
       "4.3      18.0  331.006083  293.297489  19.2465   71.197875  277.16850   \n",
       "4.4      17.0  395.092147  339.262282  51.0405   84.630000  300.57300   \n",
       "...       ...         ...         ...      ...         ...        ...   \n",
       "9.6      17.0  328.956353  241.438148  41.0760  147.672000  295.69050   \n",
       "9.7      14.0  238.028250  189.600876  44.3520   92.788500  161.93100   \n",
       "9.8      19.0  261.943500  229.360880  14.6790   96.384750  217.18200   \n",
       "9.9      16.0  363.933281  222.419676  77.7735  190.118250  343.74900   \n",
       "10.0      5.0  416.070900  212.072227  77.9310  339.360000  520.41150   \n",
       "\n",
       "               75%        max  \n",
       "Rating                         \n",
       "4.0     615.615000   688.7160  \n",
       "4.1     223.587000   745.8360  \n",
       "4.2     602.495250   944.6220  \n",
       "4.3     544.238625   864.5700  \n",
       "4.4     588.420000  1022.4900  \n",
       "...            ...        ...  \n",
       "9.6     462.210000   939.5400  \n",
       "9.7     364.848750   629.8425  \n",
       "9.8     310.611000   887.9220  \n",
       "9.9     526.677375   914.5500  \n",
       "10.0    554.295000   588.3570  \n",
       "\n",
       "[61 rows x 8 columns]"
      ]
     },
     "execution_count": 67,
     "metadata": {},
     "output_type": "execute_result"
    }
   ],
   "source": [
    "df.groupby(by=['Rating'])['Total'].describe()"
   ]
  },
  {
   "cell_type": "code",
   "execution_count": 68,
   "metadata": {},
   "outputs": [],
   "source": [
    "df['Rating Category'] = df.Rating.apply(lambda x: \"High\" if x >= 8 else (\"Low\" if x <= 6 else \"Medium\")).astype('category')"
   ]
  },
  {
   "cell_type": "code",
   "execution_count": 69,
   "metadata": {},
   "outputs": [
    {
     "data": {
      "text/html": [
       "<div>\n",
       "<style scoped>\n",
       "    .dataframe tbody tr th:only-of-type {\n",
       "        vertical-align: middle;\n",
       "    }\n",
       "\n",
       "    .dataframe tbody tr th {\n",
       "        vertical-align: top;\n",
       "    }\n",
       "\n",
       "    .dataframe thead th {\n",
       "        text-align: right;\n",
       "    }\n",
       "</style>\n",
       "<table border=\"1\" class=\"dataframe\">\n",
       "  <thead>\n",
       "    <tr style=\"text-align: right;\">\n",
       "      <th></th>\n",
       "      <th>count</th>\n",
       "      <th>mean</th>\n",
       "      <th>std</th>\n",
       "      <th>min</th>\n",
       "      <th>25%</th>\n",
       "      <th>50%</th>\n",
       "      <th>75%</th>\n",
       "      <th>max</th>\n",
       "    </tr>\n",
       "    <tr>\n",
       "      <th>Rating Category</th>\n",
       "      <th></th>\n",
       "      <th></th>\n",
       "      <th></th>\n",
       "      <th></th>\n",
       "      <th></th>\n",
       "      <th></th>\n",
       "      <th></th>\n",
       "      <th></th>\n",
       "    </tr>\n",
       "  </thead>\n",
       "  <tbody>\n",
       "    <tr>\n",
       "      <th>High</th>\n",
       "      <td>329.0</td>\n",
       "      <td>323.281404</td>\n",
       "      <td>242.080260</td>\n",
       "      <td>12.6945</td>\n",
       "      <td>136.143000</td>\n",
       "      <td>252.756</td>\n",
       "      <td>485.5725</td>\n",
       "      <td>1039.29</td>\n",
       "    </tr>\n",
       "    <tr>\n",
       "      <th>Low</th>\n",
       "      <td>341.0</td>\n",
       "      <td>341.739312</td>\n",
       "      <td>255.447452</td>\n",
       "      <td>10.6785</td>\n",
       "      <td>116.907000</td>\n",
       "      <td>281.169</td>\n",
       "      <td>506.6355</td>\n",
       "      <td>1034.46</td>\n",
       "    </tr>\n",
       "    <tr>\n",
       "      <th>Medium</th>\n",
       "      <td>330.0</td>\n",
       "      <td>303.254732</td>\n",
       "      <td>238.681896</td>\n",
       "      <td>16.1070</td>\n",
       "      <td>110.100375</td>\n",
       "      <td>222.012</td>\n",
       "      <td>431.1195</td>\n",
       "      <td>1042.65</td>\n",
       "    </tr>\n",
       "  </tbody>\n",
       "</table>\n",
       "</div>"
      ],
      "text/plain": [
       "                 count        mean         std      min         25%      50%  \\\n",
       "Rating Category                                                                \n",
       "High             329.0  323.281404  242.080260  12.6945  136.143000  252.756   \n",
       "Low              341.0  341.739312  255.447452  10.6785  116.907000  281.169   \n",
       "Medium           330.0  303.254732  238.681896  16.1070  110.100375  222.012   \n",
       "\n",
       "                      75%      max  \n",
       "Rating Category                     \n",
       "High             485.5725  1039.29  \n",
       "Low              506.6355  1034.46  \n",
       "Medium           431.1195  1042.65  "
      ]
     },
     "execution_count": 69,
     "metadata": {},
     "output_type": "execute_result"
    }
   ],
   "source": [
    "df.groupby(by=['Rating Category'])['Total'].describe()"
   ]
  },
  {
   "cell_type": "markdown",
   "metadata": {},
   "source": [
    "Висновок: з даних видно, що клієнтський рейтинг не особливо впливає на ціну чеку. Проте незадоволенні клієнти можуть не повертатись, тому не варто нехтувати цим показником."
   ]
  },
  {
   "cell_type": "markdown",
   "metadata": {},
   "source": [
    "3. **Гіпотеза про звязок між статтю клієнтів та категорією товарів, що вони обирають.**"
   ]
  },
  {
   "cell_type": "code",
   "execution_count": 70,
   "metadata": {},
   "outputs": [
    {
     "data": {
      "text/html": [
       "<div>\n",
       "<style scoped>\n",
       "    .dataframe tbody tr th:only-of-type {\n",
       "        vertical-align: middle;\n",
       "    }\n",
       "\n",
       "    .dataframe tbody tr th {\n",
       "        vertical-align: top;\n",
       "    }\n",
       "\n",
       "    .dataframe thead th {\n",
       "        text-align: right;\n",
       "    }\n",
       "</style>\n",
       "<table border=\"1\" class=\"dataframe\">\n",
       "  <thead>\n",
       "    <tr style=\"text-align: right;\">\n",
       "      <th></th>\n",
       "      <th></th>\n",
       "      <th>count</th>\n",
       "      <th>mean</th>\n",
       "      <th>std</th>\n",
       "      <th>min</th>\n",
       "      <th>25%</th>\n",
       "      <th>50%</th>\n",
       "      <th>75%</th>\n",
       "      <th>max</th>\n",
       "    </tr>\n",
       "    <tr>\n",
       "      <th>Gender</th>\n",
       "      <th>Product line</th>\n",
       "      <th></th>\n",
       "      <th></th>\n",
       "      <th></th>\n",
       "      <th></th>\n",
       "      <th></th>\n",
       "      <th></th>\n",
       "      <th></th>\n",
       "      <th></th>\n",
       "    </tr>\n",
       "  </thead>\n",
       "  <tbody>\n",
       "    <tr>\n",
       "      <th rowspan=\"6\" valign=\"top\">Female</th>\n",
       "      <th>Electronic accessories</th>\n",
       "      <td>84.0</td>\n",
       "      <td>322.643125</td>\n",
       "      <td>247.064246</td>\n",
       "      <td>26.7225</td>\n",
       "      <td>104.451375</td>\n",
       "      <td>248.59800</td>\n",
       "      <td>477.713250</td>\n",
       "      <td>942.4485</td>\n",
       "    </tr>\n",
       "    <tr>\n",
       "      <th>Fashion accessories</th>\n",
       "      <td>96.0</td>\n",
       "      <td>317.056250</td>\n",
       "      <td>231.938795</td>\n",
       "      <td>12.6945</td>\n",
       "      <td>145.467000</td>\n",
       "      <td>283.12725</td>\n",
       "      <td>439.251750</td>\n",
       "      <td>1042.6500</td>\n",
       "    </tr>\n",
       "    <tr>\n",
       "      <th>Food and beverages</th>\n",
       "      <td>90.0</td>\n",
       "      <td>368.565750</td>\n",
       "      <td>271.227129</td>\n",
       "      <td>23.7510</td>\n",
       "      <td>165.065250</td>\n",
       "      <td>306.55800</td>\n",
       "      <td>527.979375</td>\n",
       "      <td>1034.4600</td>\n",
       "    </tr>\n",
       "    <tr>\n",
       "      <th>Health and beauty</th>\n",
       "      <td>64.0</td>\n",
       "      <td>290.015414</td>\n",
       "      <td>215.252319</td>\n",
       "      <td>18.6375</td>\n",
       "      <td>101.642625</td>\n",
       "      <td>249.03900</td>\n",
       "      <td>444.743250</td>\n",
       "      <td>794.6505</td>\n",
       "    </tr>\n",
       "    <tr>\n",
       "      <th>Home and lifestyle</th>\n",
       "      <td>79.0</td>\n",
       "      <td>380.213639</td>\n",
       "      <td>270.278721</td>\n",
       "      <td>25.2630</td>\n",
       "      <td>148.176000</td>\n",
       "      <td>325.37400</td>\n",
       "      <td>560.196000</td>\n",
       "      <td>1022.4900</td>\n",
       "    </tr>\n",
       "    <tr>\n",
       "      <th>Sports and travel</th>\n",
       "      <td>88.0</td>\n",
       "      <td>324.712739</td>\n",
       "      <td>246.696381</td>\n",
       "      <td>16.1070</td>\n",
       "      <td>139.324500</td>\n",
       "      <td>229.79250</td>\n",
       "      <td>473.248125</td>\n",
       "      <td>1002.1200</td>\n",
       "    </tr>\n",
       "    <tr>\n",
       "      <th rowspan=\"6\" valign=\"top\">Male</th>\n",
       "      <th>Electronic accessories</th>\n",
       "      <td>86.0</td>\n",
       "      <td>316.691965</td>\n",
       "      <td>246.261384</td>\n",
       "      <td>37.6110</td>\n",
       "      <td>119.726250</td>\n",
       "      <td>213.41775</td>\n",
       "      <td>467.441625</td>\n",
       "      <td>931.0350</td>\n",
       "    </tr>\n",
       "    <tr>\n",
       "      <th>Fashion accessories</th>\n",
       "      <td>82.0</td>\n",
       "      <td>291.079207</td>\n",
       "      <td>257.236773</td>\n",
       "      <td>13.4190</td>\n",
       "      <td>94.618125</td>\n",
       "      <td>182.25900</td>\n",
       "      <td>442.643250</td>\n",
       "      <td>1039.2900</td>\n",
       "    </tr>\n",
       "    <tr>\n",
       "      <th>Food and beverages</th>\n",
       "      <td>84.0</td>\n",
       "      <td>273.499125</td>\n",
       "      <td>209.076132</td>\n",
       "      <td>22.6590</td>\n",
       "      <td>100.863000</td>\n",
       "      <td>209.11800</td>\n",
       "      <td>398.055000</td>\n",
       "      <td>939.5400</td>\n",
       "    </tr>\n",
       "    <tr>\n",
       "      <th>Health and beauty</th>\n",
       "      <td>88.0</td>\n",
       "      <td>348.099460</td>\n",
       "      <td>250.885950</td>\n",
       "      <td>26.2500</td>\n",
       "      <td>156.649500</td>\n",
       "      <td>275.27850</td>\n",
       "      <td>522.477375</td>\n",
       "      <td>950.2500</td>\n",
       "    </tr>\n",
       "    <tr>\n",
       "      <th>Home and lifestyle</th>\n",
       "      <td>81.0</td>\n",
       "      <td>294.136241</td>\n",
       "      <td>232.173065</td>\n",
       "      <td>14.6790</td>\n",
       "      <td>118.062000</td>\n",
       "      <td>217.25550</td>\n",
       "      <td>415.233000</td>\n",
       "      <td>1023.7500</td>\n",
       "    </tr>\n",
       "    <tr>\n",
       "      <th>Sports and travel</th>\n",
       "      <td>78.0</td>\n",
       "      <td>340.360327</td>\n",
       "      <td>251.593202</td>\n",
       "      <td>10.6785</td>\n",
       "      <td>126.441000</td>\n",
       "      <td>293.70600</td>\n",
       "      <td>493.221750</td>\n",
       "      <td>944.6220</td>\n",
       "    </tr>\n",
       "  </tbody>\n",
       "</table>\n",
       "</div>"
      ],
      "text/plain": [
       "                               count        mean         std      min  \\\n",
       "Gender Product line                                                     \n",
       "Female Electronic accessories   84.0  322.643125  247.064246  26.7225   \n",
       "       Fashion accessories      96.0  317.056250  231.938795  12.6945   \n",
       "       Food and beverages       90.0  368.565750  271.227129  23.7510   \n",
       "       Health and beauty        64.0  290.015414  215.252319  18.6375   \n",
       "       Home and lifestyle       79.0  380.213639  270.278721  25.2630   \n",
       "       Sports and travel        88.0  324.712739  246.696381  16.1070   \n",
       "Male   Electronic accessories   86.0  316.691965  246.261384  37.6110   \n",
       "       Fashion accessories      82.0  291.079207  257.236773  13.4190   \n",
       "       Food and beverages       84.0  273.499125  209.076132  22.6590   \n",
       "       Health and beauty        88.0  348.099460  250.885950  26.2500   \n",
       "       Home and lifestyle       81.0  294.136241  232.173065  14.6790   \n",
       "       Sports and travel        78.0  340.360327  251.593202  10.6785   \n",
       "\n",
       "                                      25%        50%         75%        max  \n",
       "Gender Product line                                                          \n",
       "Female Electronic accessories  104.451375  248.59800  477.713250   942.4485  \n",
       "       Fashion accessories     145.467000  283.12725  439.251750  1042.6500  \n",
       "       Food and beverages      165.065250  306.55800  527.979375  1034.4600  \n",
       "       Health and beauty       101.642625  249.03900  444.743250   794.6505  \n",
       "       Home and lifestyle      148.176000  325.37400  560.196000  1022.4900  \n",
       "       Sports and travel       139.324500  229.79250  473.248125  1002.1200  \n",
       "Male   Electronic accessories  119.726250  213.41775  467.441625   931.0350  \n",
       "       Fashion accessories      94.618125  182.25900  442.643250  1039.2900  \n",
       "       Food and beverages      100.863000  209.11800  398.055000   939.5400  \n",
       "       Health and beauty       156.649500  275.27850  522.477375   950.2500  \n",
       "       Home and lifestyle      118.062000  217.25550  415.233000  1023.7500  \n",
       "       Sports and travel       126.441000  293.70600  493.221750   944.6220  "
      ]
     },
     "execution_count": 70,
     "metadata": {},
     "output_type": "execute_result"
    }
   ],
   "source": [
    "df.groupby(by=['Gender','Product line'])['Total'].describe()"
   ]
  },
  {
   "cell_type": "markdown",
   "metadata": {},
   "source": [
    "Висновок: Щодо **Electronic accessories та Sports and travel**, то показники приблизно одинакові. \n",
    "Суттєву різницю видно в категоріях **Fashion accessories і Food and beverages**. Тут жінки купують значно частіше та середній чек у них вищий. Варто звернути увагу на це і ввести програми щодо покращення показників чоловіків у цих категоріях і також в категорії **Home and lifestyle** із тих же міркувань.\n",
    "У категорії **Home and lifestyle** маємо протилежну ситуацію - більше та частіше купують чоловіки."
   ]
  }
 ],
 "metadata": {
  "colab": {
   "provenance": []
  },
  "kernelspec": {
   "display_name": "Python 3 (ipykernel)",
   "language": "python",
   "name": "python3"
  },
  "language_info": {
   "codemirror_mode": {
    "name": "ipython",
    "version": 3
   },
   "file_extension": ".py",
   "mimetype": "text/x-python",
   "name": "python",
   "nbconvert_exporter": "python",
   "pygments_lexer": "ipython3",
   "version": "3.11.5"
  }
 },
 "nbformat": 4,
 "nbformat_minor": 1
}
